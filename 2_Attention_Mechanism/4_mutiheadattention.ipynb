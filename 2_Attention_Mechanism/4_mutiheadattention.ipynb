{
 "cells": [
  {
   "cell_type": "code",
   "execution_count": 2,
   "metadata": {},
   "outputs": [
    {
     "data": {
      "text/plain": [
       "torch.Size([2, 6, 3])"
      ]
     },
     "execution_count": 2,
     "metadata": {},
     "output_type": "execute_result"
    }
   ],
   "source": [
    "import torch\n",
    "import torch.nn as nn\n",
    "inputs = torch.tensor(\n",
    "  [[0.43, 0.15, 0.89], # Your     (x^1)\n",
    "   [0.55, 0.87, 0.66], # journey  (x^2)\n",
    "   [0.57, 0.85, 0.64], # starts   (x^3)\n",
    "   [0.22, 0.58, 0.33], # with     (x^4)\n",
    "   [0.77, 0.25, 0.10], # one      (x^5)\n",
    "   [0.05, 0.80, 0.55]] # step     (x^6)\n",
    ")\n",
    "\n",
    "batchs=torch.stack((inputs,inputs),dim=0)\n",
    "batchs.shape"
   ]
  },
  {
   "cell_type": "code",
   "execution_count": 5,
   "metadata": {},
   "outputs": [
    {
     "name": "stdout",
     "output_type": "stream",
     "text": [
      "tensor([[[ 0.1232, -0.1066, -0.0376, -0.1082, -0.3488,  0.0211,  0.3412,\n",
      "           0.1926, -0.3484,  0.5276,  0.3979,  0.1163,  0.3184,  0.0403,\n",
      "           0.0790, -0.4035],\n",
      "         [ 0.0984, -0.0307, -0.0094, -0.1888, -0.4576,  0.0386,  0.2738,\n",
      "           0.3218, -0.4608,  0.6029,  0.3603,  0.2969,  0.4167,  0.1128,\n",
      "           0.1826, -0.4163],\n",
      "         [ 0.0886, -0.0022, -0.0031, -0.2085, -0.4895,  0.0468,  0.2533,\n",
      "           0.3586, -0.4961,  0.6282,  0.3520,  0.3553,  0.4418,  0.1322,\n",
      "           0.2140, -0.4146],\n",
      "         [ 0.1011, -0.0076, -0.0316, -0.1693, -0.4635,  0.0505,  0.2437,\n",
      "           0.3211, -0.4247,  0.5862,  0.3282,  0.3417,  0.3826,  0.1484,\n",
      "           0.1847, -0.3842],\n",
      "         [ 0.0954, -0.0044, -0.0319, -0.1285, -0.4194,  0.0414,  0.2410,\n",
      "           0.2809, -0.3754,  0.5705,  0.3284,  0.3530,  0.3389,  0.1275,\n",
      "           0.1464, -0.3400],\n",
      "         [ 0.1050, -0.0089, -0.0432, -0.1365, -0.4345,  0.0466,  0.2355,\n",
      "           0.2888, -0.3688,  0.5581,  0.3132,  0.3435,  0.3395,  0.1514,\n",
      "           0.1569, -0.3529]],\n",
      "\n",
      "        [[ 0.1232, -0.1066, -0.0376, -0.1082, -0.3488,  0.0211,  0.3412,\n",
      "           0.1926, -0.3484,  0.5276,  0.3979,  0.1163,  0.3184,  0.0403,\n",
      "           0.0790, -0.4035],\n",
      "         [ 0.0984, -0.0307, -0.0094, -0.1888, -0.4576,  0.0386,  0.2738,\n",
      "           0.3218, -0.4608,  0.6029,  0.3603,  0.2969,  0.4167,  0.1128,\n",
      "           0.1826, -0.4163],\n",
      "         [ 0.0886, -0.0022, -0.0031, -0.2085, -0.4895,  0.0468,  0.2533,\n",
      "           0.3586, -0.4961,  0.6282,  0.3520,  0.3553,  0.4418,  0.1322,\n",
      "           0.2140, -0.4146],\n",
      "         [ 0.1011, -0.0076, -0.0316, -0.1693, -0.4635,  0.0505,  0.2437,\n",
      "           0.3211, -0.4247,  0.5862,  0.3282,  0.3417,  0.3826,  0.1484,\n",
      "           0.1847, -0.3842],\n",
      "         [ 0.0954, -0.0044, -0.0319, -0.1285, -0.4194,  0.0414,  0.2410,\n",
      "           0.2809, -0.3754,  0.5705,  0.3284,  0.3530,  0.3389,  0.1275,\n",
      "           0.1464, -0.3400],\n",
      "         [ 0.1050, -0.0089, -0.0432, -0.1365, -0.4345,  0.0466,  0.2355,\n",
      "           0.2888, -0.3688,  0.5581,  0.3132,  0.3435,  0.3395,  0.1514,\n",
      "           0.1569, -0.3529]]], grad_fn=<ViewBackward0>)\n",
      "context_vecs.shape: torch.Size([2, 6, 16])\n"
     ]
    }
   ],
   "source": [
    "class casualattention(nn.Module):\n",
    "    def __init__(self,din,dout,biasbool,batchsize,dropoutsize):\n",
    "        super().__init__()\n",
    "        self.W_query=nn.Linear(din,dout,bias=biasbool)\n",
    "        self.W_keys=nn.Linear(din,dout,bias=biasbool)\n",
    "        self.W_values=nn.Linear(din,dout,bias=biasbool)\n",
    "        self.dropout=nn.Dropout(dropoutsize)\n",
    "        self.register_buffer('mask', torch.triu(torch.ones(batchsize, batchsize), diagonal=1))\n",
    "\n",
    "    def forward(self,x):\n",
    "        b, num_tokens, d_in = x.shape\n",
    "        query= self.W_query (x)\n",
    "        keys= self.W_keys (x)\n",
    "        values=self.W_values (x)\n",
    "\n",
    "        scores=query @ keys.transpose(1,2)\n",
    "        scores.masked_fill_(  \n",
    "            self.mask.bool()[:num_tokens, :num_tokens], -torch.inf)\n",
    "        attn_weights=torch.softmax(scores/(keys.shape[-1])**0.5,dim=-1)\n",
    "        attn_weights = self.dropout(attn_weights) \n",
    "\n",
    "        context_vec = attn_weights @ values\n",
    "        return context_vec\n",
    "    \n",
    "class Multiheadattention(nn.Module):\n",
    "    def __init__ (self,din,dout,biasbool,batchsize,dropoutsize,noofattentionhead):\n",
    "        super().__init__()\n",
    "        self.heads=nn.ModuleList([casualattention(din,dout,biasbool,batchsize,dropoutsize) for i in range(noofattentionhead)])\n",
    "        self.out_proj=nn.Linear(dout*noofattentionhead,dout*noofattentionhead)\n",
    "    \n",
    "    def forward(self,x):\n",
    "        context_vec=torch.cat([head(x) for head in self.heads],dim=-1)\n",
    "        return self.out_proj(context_vec)\n",
    "\n",
    "\n",
    "torch.manual_seed(123)\n",
    "\n",
    "context_length = batchs.shape[1]\n",
    "ca = Multiheadattention(3, 2,False, context_length, 0.0,8)\n",
    "\n",
    "context_vecs = ca(batchs)\n",
    "\n",
    "print(context_vecs)\n",
    "print(\"context_vecs.shape:\", context_vecs.shape)\n",
    "\n",
    "        \n",
    "\n"
   ]
  }
 ],
 "metadata": {
  "kernelspec": {
   "display_name": "Python 3",
   "language": "python",
   "name": "python3"
  },
  "language_info": {
   "codemirror_mode": {
    "name": "ipython",
    "version": 3
   },
   "file_extension": ".py",
   "mimetype": "text/x-python",
   "name": "python",
   "nbconvert_exporter": "python",
   "pygments_lexer": "ipython3",
   "version": "3.9.7"
  }
 },
 "nbformat": 4,
 "nbformat_minor": 2
}
